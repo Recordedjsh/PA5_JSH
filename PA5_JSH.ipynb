{
 "cells": [
  {
   "cell_type": "code",
   "execution_count": 6,
   "id": "d2ff2ac3",
   "metadata": {},
   "outputs": [
    {
     "name": "stdout",
     "output_type": "stream",
     "text": [
      "Enter a word to translate from English to Japanese (enter 0 to stop) school\n",
      "gakkou\n"
     ]
    }
   ],
   "source": [
    "translate = {'leg':'ashi',\n",
    "            'breakfast':'asagohan',\n",
    "            'dog':'inu',\n",
    "            'cat':'neko',\n",
    "            'bread':'pan',\n",
    "            'school':'gakkou',\n",
    "            'house':'ie',\n",
    "            'cow':'ushi',\n",
    "            'friend':'tomodachi',\n",
    "            'weekend':'shuumatsu'}\n",
    "\n",
    "\n",
    "answer = input(\"Enter a word to translate from English to Japanese (enter 0 to stop) \")\n",
    "\n",
    "translation = translate.get(answer, \"Nothing!\")\n",
    "\n",
    "print(translation)"
   ]
  },
  {
   "cell_type": "code",
   "execution_count": 1,
   "id": "2bbf0a89",
   "metadata": {},
   "outputs": [],
   "source": [
    "temp_dict = {'day 1':88,\n",
    "            'day 2': 91,\n",
    "            'day 3': 92,\n",
    "            'day 4': 93,\n",
    "            'day 5': 90,\n",
    "            'day 6': 84,\n",
    "            'day 7': 77,\n",
    "            'day 8': 84,\n",
    "            'day 9': 81,\n",
    "            'day 10': 84,\n",
    "            'day 11': 87,\n",
    "            'day 12': 80,\n",
    "            'day 13': 81,\n",
    "            'day 14': 82,\n",
    "            'day 15': 81,\n",
    "            'day 16': 83,\n",
    "            'day 17': 79,\n",
    "            'day 18': 80,\n",
    "            'day 19': 81,\n",
    "            'day 20': 85,\n",
    "            'day 21': 86,\n",
    "            'day 22': 89,\n",
    "            'day 23': 83,\n",
    "            'day 24': 84,\n",
    "            'day 25': 87,\n",
    "            'day 26': 89,\n",
    "            'day 27': 83,\n",
    "            'day 28': 82,\n",
    "            'day 29': 85,\n",
    "            'day 30': 86}\n",
    "for day, temp_f in temp_dict.items():\n",
    "    temp_c = (temp_f - 32) * 5/9\n",
    "    temp_dict[day] = (temp_f, round(temp_c))"
   ]
  },
  {
   "cell_type": "code",
   "execution_count": 2,
   "id": "fd28265d",
   "metadata": {},
   "outputs": [
    {
     "data": {
      "text/plain": [
       "{'day 1': (88, 31),\n",
       " 'day 2': (91, 33),\n",
       " 'day 3': (92, 33),\n",
       " 'day 4': (93, 34),\n",
       " 'day 5': (90, 32),\n",
       " 'day 6': (84, 29),\n",
       " 'day 7': (77, 25),\n",
       " 'day 8': (84, 29),\n",
       " 'day 9': (81, 27),\n",
       " 'day 10': (84, 29),\n",
       " 'day 11': (87, 31),\n",
       " 'day 12': (80, 27),\n",
       " 'day 13': (81, 27),\n",
       " 'day 14': (82, 28),\n",
       " 'day 15': (81, 27),\n",
       " 'day 16': (83, 28),\n",
       " 'day 17': (79, 26),\n",
       " 'day 18': (80, 27),\n",
       " 'day 19': (81, 27),\n",
       " 'day 20': (85, 29),\n",
       " 'day 21': (86, 30),\n",
       " 'day 22': (89, 32),\n",
       " 'day 23': (83, 28),\n",
       " 'day 24': (84, 29),\n",
       " 'day 25': (87, 31),\n",
       " 'day 26': (89, 32),\n",
       " 'day 27': (83, 28),\n",
       " 'day 28': (82, 28),\n",
       " 'day 29': (85, 29),\n",
       " 'day 30': (86, 30)}"
      ]
     },
     "execution_count": 2,
     "metadata": {},
     "output_type": "execute_result"
    }
   ],
   "source": [
    "temp_dict"
   ]
  },
  {
   "cell_type": "code",
   "execution_count": 3,
   "id": "2a5b9235",
   "metadata": {},
   "outputs": [
    {
     "data": {
      "text/plain": [
       "{1: 1,\n",
       " 2: 4,\n",
       " 3: 9,\n",
       " 4: 16,\n",
       " 5: 25,\n",
       " 6: 36,\n",
       " 7: 49,\n",
       " 8: 64,\n",
       " 9: 81,\n",
       " 10: 100,\n",
       " 11: 121,\n",
       " 12: 144,\n",
       " 13: 169,\n",
       " 14: 196,\n",
       " 15: 225}"
      ]
     },
     "execution_count": 3,
     "metadata": {},
     "output_type": "execute_result"
    }
   ],
   "source": [
    "squares_dict = {num: num**2 for num in range(1, 16)}\n",
    "squares_dict"
   ]
  },
  {
   "cell_type": "code",
   "execution_count": 4,
   "id": "ea891df8",
   "metadata": {},
   "outputs": [
    {
     "name": "stdout",
     "output_type": "stream",
     "text": [
      "Enter your name (or '0' to stop):\n",
      "Jackson Hay\n",
      "Enter your age:\n",
      "20\n",
      "Enter your email:\n",
      "jhay@bellarmine.edu\n",
      "Enter your city:\n",
      "Louisville\n",
      "User profile added successfully!\n",
      "Enter your name (or '0' to stop):\n",
      "0\n"
     ]
    }
   ],
   "source": [
    "user_profiles = {}\n",
    "\n",
    "while True:\n",
    "    name = input(\"Enter your name (or '0' to stop):\\n\")\n",
    "    \n",
    "    if name == '0':\n",
    "        break\n",
    "    \n",
    "    age = int(input(\"Enter your age:\\n\"))\n",
    "    email = input(\"Enter your email:\\n\")\n",
    "    city = input(\"Enter your city:\\n\")\n",
    "\n",
    "    user_profiles[name] = {\n",
    "        'age': age,\n",
    "        'email': email,\n",
    "        'city': city\n",
    "    }\n",
    "    print(\"User profile added successfully!\")"
   ]
  },
  {
   "cell_type": "code",
   "execution_count": 5,
   "id": "6766cf51",
   "metadata": {},
   "outputs": [
    {
     "name": "stdout",
     "output_type": "stream",
     "text": [
      "Enter a name to search for (or '0' to exit):\n",
      "Jackson Hay\n",
      "User Profile:\n",
      "Name: Jackson Hay\n",
      "Age: 20\n",
      "Email: jhay@bellarmine.edu\n",
      "City: Louisville\n"
     ]
    }
   ],
   "source": [
    "search_name = input(\"Enter a name to search for (or '0' to exit):\\n\")\n",
    "if search_name in user_profiles.keys():\n",
    "    profile = user_profiles[search_name]\n",
    "    print(\"User Profile:\")\n",
    "    print(f\"Name: {search_name}\")\n",
    "    print(f\"Age: {profile['age']}\")\n",
    "    print(f\"Email: {profile['email']}\")\n",
    "    print(f\"City: {profile['city']}\")\n",
    "else:\n",
    "    print(\"User not found in the user profiles.\")"
   ]
  },
  {
   "cell_type": "code",
   "execution_count": null,
   "id": "1058c1a1",
   "metadata": {},
   "outputs": [],
   "source": []
  }
 ],
 "metadata": {
  "kernelspec": {
   "display_name": "Python 3 (ipykernel)",
   "language": "python",
   "name": "python3"
  },
  "language_info": {
   "codemirror_mode": {
    "name": "ipython",
    "version": 3
   },
   "file_extension": ".py",
   "mimetype": "text/x-python",
   "name": "python",
   "nbconvert_exporter": "python",
   "pygments_lexer": "ipython3",
   "version": "3.11.4"
  }
 },
 "nbformat": 4,
 "nbformat_minor": 5
}
